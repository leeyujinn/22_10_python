{
  "nbformat": 4,
  "nbformat_minor": 0,
  "metadata": {
    "colab": {
      "provenance": [],
      "authorship_tag": "ABX9TyPELjbMKHLVmFSUfJt2aI7c",
      "include_colab_link": true
    },
    "kernelspec": {
      "name": "python3",
      "display_name": "Python 3"
    },
    "language_info": {
      "name": "python"
    }
  },
  "cells": [
    {
      "cell_type": "markdown",
      "metadata": {
        "id": "view-in-github",
        "colab_type": "text"
      },
      "source": [
        "<a href=\"https://colab.research.google.com/github/leeyujinn/22_10_python/blob/main/Python_001.ipynb\" target=\"_parent\"><img src=\"https://colab.research.google.com/assets/colab-badge.svg\" alt=\"Open In Colab\"/></a>"
      ]
    },
    {
      "cell_type": "markdown",
      "source": [
        "코랩과 깃헙의 첫번째 연결을 진행합니다."
      ],
      "metadata": {
        "id": "JcpYE8OAmqCP"
      }
    },
    {
      "cell_type": "code",
      "source": [
        "print(\"Hello Github\")\n",
        "print(\"Hello Python\")\n",
        "print(\"안녕하세요?\")\n",
        "print(\"Programming에 입문하신것을 축하드립니다.\")"
      ],
      "metadata": {
        "colab": {
          "base_uri": "https://localhost:8080/"
        },
        "id": "hkDL2dupmvPG",
        "outputId": "62274cb4-86fc-4f78-e21c-3e57797ce479"
      },
      "execution_count": 4,
      "outputs": [
        {
          "output_type": "stream",
          "name": "stdout",
          "text": [
            "Hello Github\n",
            "Hello Python\n",
            "안녕하세요?\n",
            "Programming에 입문하신것을 축하드립니다.\n"
          ]
        }
      ]
    },
    {
      "cell_type": "code",
      "source": [
        "print(5+6)\n",
        "print(5-3)\n",
        "print(5/3)\n",
        "print(5//3)"
      ],
      "metadata": {
        "colab": {
          "base_uri": "https://localhost:8080/"
        },
        "id": "hXjYOYjkp9fv",
        "outputId": "7990dba0-e37f-418a-9011-e5b623661f66"
      },
      "execution_count": 6,
      "outputs": [
        {
          "output_type": "stream",
          "name": "stdout",
          "text": [
            "11\n",
            "2\n",
            "1.6666666666666667\n",
            "1\n"
          ]
        }
      ]
    },
    {
      "cell_type": "code",
      "source": [
        "print(\"사랑해\" * 10)"
      ],
      "metadata": {
        "colab": {
          "base_uri": "https://localhost:8080/"
        },
        "id": "mozU3RyOrKse",
        "outputId": "861fed00-f747-49a6-f8fa-e9a1cb6915e3"
      },
      "execution_count": 8,
      "outputs": [
        {
          "output_type": "stream",
          "name": "stdout",
          "text": [
            "사랑해사랑해사랑해사랑해사랑해사랑해사랑해사랑해사랑해사랑해\n"
          ]
        }
      ]
    },
    {
      "cell_type": "code",
      "source": [
        "print(3.141592*10.0*10.0)\n",
        "print((1/100)*1234)"
      ],
      "metadata": {
        "colab": {
          "base_uri": "https://localhost:8080/"
        },
        "id": "ClE33h6ZrVB2",
        "outputId": "8604a8b0-8dbd-4f99-b5e5-3387e6dfb97f"
      },
      "execution_count": 9,
      "outputs": [
        {
          "output_type": "stream",
          "name": "stdout",
          "text": [
            "314.1592\n",
            "12.34\n"
          ]
        }
      ]
    },
    {
      "cell_type": "code",
      "source": [
        "ftemp = 90.0\n",
        "ctemp = ((ftemp-32.0)* 5.0/9.0)\n",
        "print(ctemp)"
      ],
      "metadata": {
        "colab": {
          "base_uri": "https://localhost:8080/"
        },
        "id": "UR28Z9ztsHHY",
        "outputId": "ebd2f09a-45ee-4019-c414-b1a48f26354b"
      },
      "execution_count": 10,
      "outputs": [
        {
          "output_type": "stream",
          "name": "stdout",
          "text": [
            "32.22222222222222\n"
          ]
        }
      ]
    },
    {
      "cell_type": "code",
      "source": [
        "x = 200\n",
        "x = 100\n",
        "print(x)\n",
        "\n",
        "x = 100\n",
        "y = 200\n",
        "print(x)"
      ],
      "metadata": {
        "colab": {
          "base_uri": "https://localhost:8080/"
        },
        "id": "4-1BpYjivMT2",
        "outputId": "2e6becac-5508-4cf2-ee65-d3d64d5a7bcc"
      },
      "execution_count": 12,
      "outputs": [
        {
          "output_type": "stream",
          "name": "stdout",
          "text": [
            "100\n",
            "100\n"
          ]
        }
      ]
    },
    {
      "cell_type": "code",
      "source": [
        "x = 100\n",
        "y = 200\n",
        "z=(x+y)\n",
        "print(z)\n",
        "print(x+y)"
      ],
      "metadata": {
        "colab": {
          "base_uri": "https://localhost:8080/"
        },
        "id": "gz6F02NkvfvG",
        "outputId": "6db78a82-eb7a-4b8e-f49f-646bc075b047"
      },
      "execution_count": 13,
      "outputs": [
        {
          "output_type": "stream",
          "name": "stdout",
          "text": [
            "300\n",
            "300\n"
          ]
        }
      ]
    },
    {
      "cell_type": "code",
      "source": [
        "x = 100\n",
        "y = 200\n",
        "sum = x + y\n",
        "print(x,\"과\",y,\"의 합은\",sum,\"입니다.\")"
      ],
      "metadata": {
        "colab": {
          "base_uri": "https://localhost:8080/"
        },
        "id": "93gAlXMmzDL2",
        "outputId": "80350ce3-edf8-499e-ed18-7dedaf6d7277"
      },
      "execution_count": 21,
      "outputs": [
        {
          "output_type": "stream",
          "name": "stdout",
          "text": [
            "100 과 200 의 합은 300 입니다.\n"
          ]
        }
      ]
    }
  ]
}